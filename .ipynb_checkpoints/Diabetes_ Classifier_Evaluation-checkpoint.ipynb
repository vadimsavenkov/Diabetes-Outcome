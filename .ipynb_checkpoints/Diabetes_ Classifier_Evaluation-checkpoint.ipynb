{
 "cells": [
  {
   "cell_type": "markdown",
   "metadata": {
    "id": "LvPDkZbDCt_I"
   },
   "source": [
    "# Diabetes Outcome: Classifier Evaluation and MLP"
   ]
  },
  {
   "cell_type": "code",
   "execution_count": 1,
   "metadata": {
    "id": "63AwRefhX6-D"
   },
   "outputs": [],
   "source": [
    "import numpy as np\n",
    "import pandas as pd"
   ]
  },
  {
   "cell_type": "markdown",
   "metadata": {
    "id": "padWWJ16CpT6"
   },
   "source": [
    "## Classifier evaluation"
   ]
  },
  {
   "cell_type": "markdown",
   "metadata": {
    "id": "gIi5aGMUCluA"
   },
   "source": [
    "### Binary classification"
   ]
  },
  {
   "cell_type": "markdown",
   "metadata": {
    "id": "4RxmWSs-C6IP"
   },
   "source": [
    "#### Loading data and EDA"
   ]
  },
  {
   "cell_type": "code",
   "execution_count": null,
   "metadata": {
    "id": "DOUgXirA7n8V"
   },
   "outputs": [],
   "source": [
    "df_pid = pd.read_csv(\"diabetes.csv\")\n",
    "df_pid"
   ]
  },
  {
   "cell_type": "code",
   "execution_count": null,
   "metadata": {
    "id": "UVB2adcFOBmO"
   },
   "outputs": [],
   "source": [
    "df_pid.dtypes"
   ]
  },
  {
   "cell_type": "code",
   "execution_count": null,
   "metadata": {
    "id": "Itqhj35sPCjl"
   },
   "outputs": [],
   "source": [
    "df_pid['Outcome'] = df_pid['Outcome'].astype('category')"
   ]
  },
  {
   "cell_type": "code",
   "execution_count": null,
   "metadata": {
    "id": "vZwwhA_MN-xq"
   },
   "outputs": [],
   "source": [
    "df_pid.describe()"
   ]
  },
  {
   "cell_type": "code",
   "execution_count": null,
   "metadata": {
    "id": "3AMCzlARPNWT"
   },
   "outputs": [],
   "source": [
    "df_pid['Outcome'].describe()"
   ]
  },
  {
   "cell_type": "code",
   "execution_count": null,
   "metadata": {
    "id": "Hx3L7eAEN6nN"
   },
   "outputs": [],
   "source": [
    "import plotly.express as px"
   ]
  },
  {
   "cell_type": "code",
   "execution_count": null,
   "metadata": {
    "id": "P9LPgFM1N9Mm"
   },
   "outputs": [],
   "source": [
    "fig = px.scatter_matrix(df_pid, color='Outcome', height=1800, width=1800)\n",
    "fig.show()"
   ]
  },
  {
   "cell_type": "code",
   "execution_count": null,
   "metadata": {
    "id": "SfMomVswPicB"
   },
   "outputs": [],
   "source": [
    "for feature in df_pid.columns:\n",
    "  fig = px.histogram(df_pid, x=feature, color='Outcome')\n",
    "  fig.show()"
   ]
  },
  {
   "cell_type": "markdown",
   "metadata": {
    "id": "bdLeGthaC_nI"
   },
   "source": [
    "#### Data Splitting"
   ]
  },
  {
   "cell_type": "markdown",
   "metadata": {
    "id": "WAOuMybQDX2H"
   },
   "source": [
    "https://scikit-learn.org/stable/modules/generated/sklearn.model_selection.train_test_split.html"
   ]
  },
  {
   "cell_type": "code",
   "execution_count": null,
   "metadata": {
    "id": "UMMHMPkmBEpH"
   },
   "outputs": [],
   "source": [
    "from sklearn.model_selection import train_test_split"
   ]
  },
  {
   "cell_type": "code",
   "execution_count": null,
   "metadata": {
    "id": "hEt54MaK8XUu"
   },
   "outputs": [],
   "source": [
    "df_pid_train, df_pid_test = train_test_split(df_pid, test_size=0.2)"
   ]
  },
  {
   "cell_type": "code",
   "execution_count": null,
   "metadata": {
    "id": "unCIXCS3-b_y"
   },
   "outputs": [],
   "source": [
    "X_pid_train = df_pid_train.iloc[:, :-1]\n",
    "y_pid_train = df_pid_train['Outcome']\n",
    "\n",
    "X_pid_test = df_pid_test.iloc[:, :-1]\n",
    "y_pid_test = df_pid_test['Outcome']"
   ]
  },
  {
   "cell_type": "markdown",
   "metadata": {
    "id": "nlwgIWnHDGvc"
   },
   "source": [
    "#### Building a k-NN QuAM"
   ]
  },
  {
   "cell_type": "markdown",
   "metadata": {
    "id": "ef3i52WmDRW6"
   },
   "source": [
    "https://scikit-learn.org/stable/modules/generated/sklearn.neighbors.KNeighborsClassifier.html"
   ]
  },
  {
   "cell_type": "code",
   "execution_count": null,
   "metadata": {
    "id": "oE0J87iUBMLr"
   },
   "outputs": [],
   "source": [
    "from sklearn.neighbors import KNeighborsClassifier "
   ]
  },
  {
   "cell_type": "code",
   "execution_count": null,
   "metadata": {
    "id": "FiXn7w3O8GG8"
   },
   "outputs": [],
   "source": [
    "knn_pid = KNeighborsClassifier(n_neighbors=3)\n",
    "knn_pid.fit(X_pid_train, y_pid_train)"
   ]
  },
  {
   "cell_type": "markdown",
   "metadata": {
    "id": "tcBD9nJ1_mCH"
   },
   "source": [
    "#### Accuracy Score"
   ]
  },
  {
   "cell_type": "markdown",
   "metadata": {
    "id": "sfjUyBrq_pk3"
   },
   "source": [
    "https://scikit-learn.org/stable/modules/generated/sklearn.metrics.accuracy_score.html"
   ]
  },
  {
   "cell_type": "code",
   "execution_count": null,
   "metadata": {
    "id": "zew0V27FAZKk"
   },
   "outputs": [],
   "source": [
    "from sklearn.metrics import accuracy_score"
   ]
  },
  {
   "cell_type": "code",
   "execution_count": null,
   "metadata": {
    "id": "cS9o8Pvt-MIf"
   },
   "outputs": [],
   "source": [
    "yhat_pid_train = knn_pid.predict(X_pid_train)\n",
    "accuracy_score(y_pid_train, yhat_pid_train)"
   ]
  },
  {
   "cell_type": "code",
   "execution_count": null,
   "metadata": {
    "id": "p5ic0x40_La5"
   },
   "outputs": [],
   "source": [
    "yhat_pid_test = knn_pid.predict(X_pid_test)\n",
    "accuracy_score(y_pid_test, yhat_pid_test)"
   ]
  },
  {
   "cell_type": "markdown",
   "metadata": {
    "id": "_n5LE2Wt_0QI"
   },
   "source": [
    "#### Precision Score"
   ]
  },
  {
   "cell_type": "markdown",
   "metadata": {
    "id": "WSYwfquXADwc"
   },
   "source": [
    "https://scikit-learn.org/stable/modules/generated/sklearn.metrics.precision_score.html"
   ]
  },
  {
   "cell_type": "code",
   "execution_count": null,
   "metadata": {
    "id": "KMKKhAZkAcDR"
   },
   "outputs": [],
   "source": [
    "from sklearn.metrics import precision_score"
   ]
  },
  {
   "cell_type": "code",
   "execution_count": null,
   "metadata": {
    "id": "KYgS24ce_3vw"
   },
   "outputs": [],
   "source": [
    "display(precision_score(y_pid_train, yhat_pid_train))\n",
    "display(precision_score(y_pid_test, yhat_pid_test))"
   ]
  },
  {
   "cell_type": "markdown",
   "metadata": {
    "id": "KtC7rSmwADAn"
   },
   "source": [
    "#### Recall Score"
   ]
  },
  {
   "cell_type": "markdown",
   "metadata": {
    "id": "HthpD2ndARk1"
   },
   "source": [
    "https://scikit-learn.org/stable/modules/generated/sklearn.metrics.recall_score.html"
   ]
  },
  {
   "cell_type": "code",
   "execution_count": null,
   "metadata": {
    "id": "M6jkmNvoAhIR"
   },
   "outputs": [],
   "source": [
    "from sklearn.metrics import recall_score"
   ]
  },
  {
   "cell_type": "code",
   "execution_count": null,
   "metadata": {
    "id": "sMyK6lUnASAG"
   },
   "outputs": [],
   "source": [
    "display(recall_score(y_pid_train, yhat_pid_train))\n",
    "display(recall_score(y_pid_test, yhat_pid_test))"
   ]
  },
  {
   "cell_type": "markdown",
   "metadata": {
    "id": "u8NoyQn0AlJZ"
   },
   "source": [
    "#### F1 Score"
   ]
  },
  {
   "cell_type": "markdown",
   "metadata": {
    "id": "_TNAdvkQAlTj"
   },
   "source": [
    "https://scikit-learn.org/stable/modules/generated/sklearn.metrics.f1_score.html"
   ]
  },
  {
   "cell_type": "code",
   "execution_count": null,
   "metadata": {
    "id": "KItJBgmOAlxT"
   },
   "outputs": [],
   "source": [
    "from sklearn.metrics import f1_score\n"
   ]
  },
  {
   "cell_type": "code",
   "execution_count": null,
   "metadata": {
    "id": "7l0FiD6uAmJs"
   },
   "outputs": [],
   "source": [
    "display(f1_score(y_pid_train, yhat_pid_train))\n",
    "display(f1_score(y_pid_test, yhat_pid_test))"
   ]
  },
  {
   "cell_type": "markdown",
   "metadata": {
    "id": "8huVwO-bBfwl"
   },
   "source": [
    "#### Classification Report"
   ]
  },
  {
   "cell_type": "markdown",
   "metadata": {
    "id": "8z9TXgpzBiGM"
   },
   "source": [
    "https://scikit-learn.org/stable/modules/generated/sklearn.metrics.classification_report.html"
   ]
  },
  {
   "cell_type": "code",
   "execution_count": null,
   "metadata": {
    "id": "q-wJKLFjBiKl"
   },
   "outputs": [],
   "source": [
    "from sklearn.metrics import classification_report"
   ]
  },
  {
   "cell_type": "code",
   "execution_count": null,
   "metadata": {
    "id": "8BpOge8IBWFJ"
   },
   "outputs": [],
   "source": [
    "print(\"On training data:\")\n",
    "print(classification_report(y_pid_train, yhat_pid_train, \\\n",
    "                           target_names=['No Diabetes', 'Diabetes']))\n",
    "print(\"On test data:\")\n",
    "print(classification_report(y_pid_test, yhat_pid_test, \\\n",
    "                           target_names=['No Diabetes', 'Diabetes']))"
   ]
  },
  {
   "cell_type": "markdown",
   "metadata": {
    "id": "lwO8F5qBMP9a"
   },
   "source": [
    "#### Chacking against a baseline"
   ]
  },
  {
   "cell_type": "code",
   "execution_count": null,
   "metadata": {
    "id": "xk0r0qbgMSQD"
   },
   "outputs": [],
   "source": [
    "display(374 / 576)"
   ]
  },
  {
   "cell_type": "code",
   "execution_count": null,
   "metadata": {
    "id": "Kra7qpt4MwgG"
   },
   "outputs": [],
   "source": [
    "display(accuracy_score(y_pid_train, yhat_pid_train))"
   ]
  },
  {
   "cell_type": "code",
   "execution_count": null,
   "metadata": {
    "id": "vSWENiePM6Jq"
   },
   "outputs": [],
   "source": [
    "display(126 / 192)"
   ]
  },
  {
   "cell_type": "code",
   "execution_count": null,
   "metadata": {
    "id": "oYDDg5YUM6Ok"
   },
   "outputs": [],
   "source": [
    "display(accuracy_score(y_pid_test, yhat_pid_test))"
   ]
  },
  {
   "cell_type": "markdown",
   "metadata": {
    "id": "wvVteOeRCa5Q"
   },
   "source": [
    "### Multiclass classification"
   ]
  },
  {
   "cell_type": "markdown",
   "metadata": {
    "id": "K-0rYvA1D03Y"
   },
   "source": [
    "#### Loading data and EDA"
   ]
  },
  {
   "cell_type": "markdown",
   "metadata": {
    "id": "CaZxM1p2EHX6"
   },
   "source": [
    "https://scikit-learn.org/stable/modules/generated/sklearn.datasets.load_digits.html"
   ]
  },
  {
   "cell_type": "code",
   "execution_count": null,
   "metadata": {
    "id": "_Zj34YavBSTd"
   },
   "outputs": [],
   "source": [
    "from sklearn.datasets import load_digits"
   ]
  },
  {
   "cell_type": "code",
   "execution_count": null,
   "metadata": {
    "id": "tOio1byWYNR9"
   },
   "outputs": [],
   "source": [
    "data = load_digits() \n",
    "\n",
    "print(data['DESCR'])"
   ]
  },
  {
   "cell_type": "code",
   "execution_count": null,
   "metadata": {
    "id": "EI36BF24hLQE"
   },
   "outputs": [],
   "source": [
    "df_digits = pd.DataFrame(data.data)\n",
    "df_digits['label'] = data.target"
   ]
  },
  {
   "cell_type": "code",
   "execution_count": null,
   "metadata": {
    "id": "YuWq1gsNhbhH"
   },
   "outputs": [],
   "source": [
    "df_digits"
   ]
  },
  {
   "cell_type": "code",
   "execution_count": null,
   "metadata": {
    "id": "h7BEbkb5QgFX"
   },
   "outputs": [],
   "source": [
    "df_digits.dtypes"
   ]
  },
  {
   "cell_type": "code",
   "execution_count": null,
   "metadata": {
    "id": "-JZeU6U2QlE_"
   },
   "outputs": [],
   "source": [
    "df_digits['label'] = df_digits['label'].astype('category')"
   ]
  },
  {
   "cell_type": "code",
   "execution_count": null,
   "metadata": {
    "id": "7mf48TaVQzoc"
   },
   "outputs": [],
   "source": [
    "df_digits.describe()"
   ]
  },
  {
   "cell_type": "code",
   "execution_count": null,
   "metadata": {
    "id": "5M6CtKVPQ-Fc"
   },
   "outputs": [],
   "source": [
    "df_digits['label'].describe()"
   ]
  },
  {
   "cell_type": "code",
   "execution_count": null,
   "metadata": {
    "id": "fnn64ZGxRCuM"
   },
   "outputs": [],
   "source": [
    "# px.scatter_matrix(df_digits, color='label', height=13000, width=13000)"
   ]
  },
  {
   "cell_type": "code",
   "execution_count": null,
   "metadata": {
    "id": "-IDlnuATRrWS"
   },
   "outputs": [],
   "source": [
    "# for column in df_digits.columns:\n",
    "#   fig = px.histogram(df_digits, x=column, color='label')\n",
    "#   fig.show()"
   ]
  },
  {
   "cell_type": "markdown",
   "metadata": {
    "id": "4PSaPlMaEbQ9"
   },
   "source": [
    "#### Data Splitting"
   ]
  },
  {
   "cell_type": "code",
   "execution_count": null,
   "metadata": {
    "id": "vZZhk70iEdCC"
   },
   "outputs": [],
   "source": [
    "df_digits_train, df_digits_test = train_test_split(df_digits, test_size=0.2)\n",
    "\n",
    "X_digits_train = df_digits_train.iloc[:, :-1]\n",
    "y_digits_train = df_digits_train['label']\n",
    "\n",
    "X_digits_test = df_digits_test.iloc[:, :-1]\n",
    "y_digits_test = df_digits_test['label']"
   ]
  },
  {
   "cell_type": "markdown",
   "metadata": {
    "id": "MqW_jSPIEP2j"
   },
   "source": [
    "#### Building a k-NN QuAM"
   ]
  },
  {
   "cell_type": "code",
   "execution_count": null,
   "metadata": {
    "id": "seVOQaIuES0S"
   },
   "outputs": [],
   "source": [
    "knn_digits = KNeighborsClassifier(n_neighbors=5, p=1)\n",
    "knn_digits.fit(X_digits_train, y_digits_train)"
   ]
  },
  {
   "cell_type": "code",
   "execution_count": null,
   "metadata": {
    "id": "ypicAHJHE9cu"
   },
   "outputs": [],
   "source": [
    "yhat_digits_train = knn_digits.predict(X_digits_train)\n",
    "yhat_digits_test  = knn_digits.predict(X_digits_test)"
   ]
  },
  {
   "cell_type": "markdown",
   "metadata": {
    "id": "-nbuXIsbDwG8"
   },
   "source": [
    "#### Confusion matrix"
   ]
  },
  {
   "cell_type": "markdown",
   "metadata": {
    "id": "5zKtgJNkFbLy"
   },
   "source": [
    "https://scikit-learn.org/stable/modules/generated/sklearn.metrics.confusion_matrix.html"
   ]
  },
  {
   "cell_type": "code",
   "execution_count": null,
   "metadata": {
    "id": "GvnGSTIXD90u"
   },
   "outputs": [],
   "source": [
    "from sklearn.metrics import confusion_matrix"
   ]
  },
  {
   "cell_type": "code",
   "execution_count": null,
   "metadata": {
    "id": "oJL3O7NOFTM8"
   },
   "outputs": [],
   "source": [
    "confusion_matrix(y_digits_train, yhat_digits_train)"
   ]
  },
  {
   "cell_type": "code",
   "execution_count": null,
   "metadata": {
    "id": "sOpgff5NFvw_"
   },
   "outputs": [],
   "source": [
    "confusion_matrix(y_digits_test, yhat_digits_test)"
   ]
  },
  {
   "cell_type": "markdown",
   "metadata": {
    "id": "LfE80duGFwPJ"
   },
   "source": [
    "https://scikit-learn.org/stable/modules/generated/sklearn.metrics.plot_confusion_matrix.html"
   ]
  },
  {
   "cell_type": "code",
   "execution_count": null,
   "metadata": {
    "id": "8UfzHoInFwlf"
   },
   "outputs": [],
   "source": [
    "from sklearn.metrics import plot_confusion_matrix"
   ]
  },
  {
   "cell_type": "code",
   "execution_count": null,
   "metadata": {
    "id": "1k57LxnkF6z5"
   },
   "outputs": [],
   "source": [
    "plot_confusion_matrix(knn_digits, X_digits_train, y_digits_train)"
   ]
  },
  {
   "cell_type": "code",
   "execution_count": null,
   "metadata": {
    "id": "Y1sjkqqwF68t"
   },
   "outputs": [],
   "source": [
    "plot_confusion_matrix(knn_digits, X_digits_test, y_digits_test)"
   ]
  },
  {
   "cell_type": "markdown",
   "metadata": {
    "id": "xEsgLNvYIHgK"
   },
   "source": [
    "#### Other metrics"
   ]
  },
  {
   "cell_type": "code",
   "execution_count": null,
   "metadata": {
    "id": "w9dQGygKIKIy"
   },
   "outputs": [],
   "source": [
    "display(accuracy_score(y_digits_train, yhat_digits_train))\n",
    "display(accuracy_score(y_digits_test,  yhat_digits_test))"
   ]
  },
  {
   "cell_type": "code",
   "execution_count": null,
   "metadata": {
    "id": "1-z64lyIJBZK"
   },
   "outputs": [],
   "source": [
    "print(\"On training data:\")\n",
    "print(classification_report(y_digits_train, yhat_digits_train))\n",
    "print(\"On test data:\")\n",
    "print(classification_report(y_digits_test, yhat_digits_test))"
   ]
  },
  {
   "cell_type": "code",
   "execution_count": null,
   "metadata": {
    "id": "_3RyKykKIflK"
   },
   "outputs": [],
   "source": [
    "display(precision_score(y_digits_train, yhat_digits_train, average=None))\n",
    "display(precision_score(y_digits_test,  yhat_digits_test,  average=None))"
   ]
  },
  {
   "cell_type": "code",
   "execution_count": null,
   "metadata": {
    "id": "2g959vIdIfv0"
   },
   "outputs": [],
   "source": [
    "display(recall_score(y_digits_train, yhat_digits_train, average=None))\n",
    "display(recall_score(y_digits_test,  yhat_digits_test,  average=None))"
   ]
  },
  {
   "cell_type": "code",
   "execution_count": null,
   "metadata": {
    "id": "XoG6cjVOIgBw"
   },
   "outputs": [],
   "source": [
    "display(f1_score(y_digits_train, yhat_digits_train, average=None))\n",
    "display(f1_score(y_digits_test,  yhat_digits_test,  average=None))"
   ]
  },
  {
   "cell_type": "markdown",
   "metadata": {
    "id": "6c7mWPCKJXU9"
   },
   "source": [
    "## Quick sanity check"
   ]
  },
  {
   "cell_type": "code",
   "execution_count": null,
   "metadata": {
    "id": "0W7YNwE2JbGs"
   },
   "outputs": [],
   "source": [
    "nn_digits = KNeighborsClassifier(n_neighbors=1, p=1)\n",
    "nn_digits.fit(X_digits_train, y_digits_train)\n",
    "\n",
    "plot_confusion_matrix(nn_digits, X_digits_train, y_digits_train)"
   ]
  },
  {
   "cell_type": "code",
   "execution_count": null,
   "metadata": {
    "id": "EMskgYbZKNfw"
   },
   "outputs": [],
   "source": [
    "plot_confusion_matrix(nn_digits, X_digits_test,  y_digits_test)"
   ]
  },
  {
   "cell_type": "markdown",
   "metadata": {
    "id": "wkyUy6B3LFbe"
   },
   "source": [
    "## Choosing best hyperparameters"
   ]
  },
  {
   "cell_type": "markdown",
   "metadata": {
    "id": "ynb8nq3FLPUd"
   },
   "source": [
    "### Normalization"
   ]
  },
  {
   "cell_type": "code",
   "execution_count": null,
   "metadata": {
    "id": "GHsUuMmdWktZ"
   },
   "outputs": [],
   "source": [
    "X_pid_train.describe()"
   ]
  },
  {
   "cell_type": "code",
   "execution_count": null,
   "metadata": {
    "id": "UWnDLtQ6Wmuq"
   },
   "outputs": [],
   "source": [
    "X_pid_test.describe()"
   ]
  },
  {
   "cell_type": "code",
   "execution_count": null,
   "metadata": {
    "id": "sn0Atrc6SJ2y"
   },
   "outputs": [],
   "source": [
    "from sklearn.preprocessing import StandardScaler"
   ]
  },
  {
   "cell_type": "code",
   "execution_count": null,
   "metadata": {
    "id": "Kgc0VwwuSQir"
   },
   "outputs": [],
   "source": [
    "pid_scaler = StandardScaler()"
   ]
  },
  {
   "cell_type": "code",
   "execution_count": null,
   "metadata": {
    "id": "Vi88vT5RSf5K"
   },
   "outputs": [],
   "source": [
    "df_pid_train.iloc[:, :-1] = pid_scaler.fit_transform(X_pid_train)\n",
    "X_pid_train = df_pid_train.iloc[:, :-1]"
   ]
  },
  {
   "cell_type": "code",
   "execution_count": null,
   "metadata": {
    "id": "alURWGToTPxG"
   },
   "outputs": [],
   "source": [
    "X_pid_train.describe()"
   ]
  },
  {
   "cell_type": "code",
   "execution_count": null,
   "metadata": {
    "id": "npLzzBerTBTC"
   },
   "outputs": [],
   "source": [
    "df_pid_test.iloc[:, :-1] = pid_scaler.transform(X_pid_test)\n",
    "X_pid_test = df_pid_test.iloc[:, :-1]"
   ]
  },
  {
   "cell_type": "code",
   "execution_count": null,
   "metadata": {
    "id": "rnhHory8Tmr6"
   },
   "outputs": [],
   "source": [
    "X_pid_test.describe()"
   ]
  },
  {
   "cell_type": "code",
   "execution_count": null,
   "metadata": {
    "id": "HNJVkPa5THK3"
   },
   "outputs": [],
   "source": [
    "display(pid_scaler.mean_)\n",
    "display(pid_scaler.scale_)"
   ]
  },
  {
   "cell_type": "markdown",
   "metadata": {
    "id": "6qJdGAJmLTcG"
   },
   "source": [
    "### The validation loop"
   ]
  },
  {
   "cell_type": "code",
   "execution_count": null,
   "metadata": {
    "id": "DJIuKIlGXdbi"
   },
   "outputs": [],
   "source": [
    "df_pid_tr, df_pid_va = train_test_split(df_pid_train, test_size=0.33)\n",
    "\n",
    "X_pid_tr = df_pid_tr.iloc[:, :-1]\n",
    "y_pid_tr = df_pid_tr['Outcome']\n",
    "\n",
    "X_pid_va = df_pid_va.iloc[:, :-1]\n",
    "y_pid_va = df_pid_va['Outcome']"
   ]
  },
  {
   "cell_type": "code",
   "execution_count": null,
   "metadata": {
    "id": "zNCpIa_GYCqe"
   },
   "outputs": [],
   "source": [
    "best_accuracy = 0.\n",
    "best_k = 0\n",
    "best_degree = 0\n",
    "for k in range(1, 10):\n",
    "  for degree in range(1, 5):\n",
    "    knn_pid_temp = KNeighborsClassifier(n_neighbors=k, p=degree)\n",
    "    knn_pid_temp.fit(X_pid_tr, y_pid_tr)\n",
    "\n",
    "    yhat_pid_va_temp = knn_pid_temp.predict(X_pid_va)\n",
    "    \n",
    "    accuracy_temp = accuracy_score(y_pid_va, yhat_pid_va_temp)\n",
    "    if accuracy_temp > best_accuracy:\n",
    "      best_accuracy = accuracy_temp\n",
    "      best_k = k\n",
    "      best_degree = degree\n",
    "\n",
    "print(\"best k:\", best_k)\n",
    "print(\"best distance metric: L\" + str(best_degree))\n",
    "print(\"best accuracy:\", best_accuracy)"
   ]
  },
  {
   "cell_type": "markdown",
   "metadata": {
    "id": "tu_5MABnLZAD"
   },
   "source": [
    "### The final test"
   ]
  },
  {
   "cell_type": "code",
   "execution_count": null,
   "metadata": {
    "id": "ZyUTus2Pa5BB"
   },
   "outputs": [],
   "source": [
    "knn_pid_2 = KNeighborsClassifier(n_neighbors=best_k, p=best_degree)\n",
    "knn_pid_2.fit(X_pid_train, y_pid_train)\n",
    "\n",
    "yhat_pid_test_2 = knn_pid_2.predict(X_pid_test)\n",
    "print(\"Accuracy on test data:\", accuracy_score(y_pid_test, yhat_pid_test_2))"
   ]
  },
  {
   "cell_type": "markdown",
   "metadata": {
    "id": "SoTtO4ZrLu4K"
   },
   "source": [
    "### $k$-Fold cross-validation"
   ]
  },
  {
   "cell_type": "markdown",
   "metadata": {
    "id": "BIRlm3wAMAmM"
   },
   "source": [
    "https://scikit-learn.org/stable/modules/generated/sklearn.model_selection.KFold.html?highlight=kfold"
   ]
  },
  {
   "cell_type": "code",
   "execution_count": null,
   "metadata": {
    "id": "615TWeJjL2FD"
   },
   "outputs": [],
   "source": [
    "from sklearn.model_selection import KFold"
   ]
  },
  {
   "cell_type": "code",
   "execution_count": null,
   "metadata": {
    "id": "pZWBW3gte4UB"
   },
   "outputs": [],
   "source": [
    "n_folds = 5\n",
    "kf = KFold(n_splits=n_folds)\n",
    "\n",
    "best_accuracy = 0.\n",
    "best_k = 0\n",
    "best_degree = 0\n",
    "for k in range(1, 8):\n",
    "  for degree in range(1, 5):\n",
    "    accuracy_sum_temp = 0.\n",
    "    for training_indices, validation_indices in kf.split(X_pid_train):\n",
    "      knn_pid_fold = KNeighborsClassifier(n_neighbors=k, p=degree)\n",
    "      knn_pid_fold.fit(X_pid_train.iloc[training_indices, :], \\\n",
    "                      y_pid_train.iloc[training_indices])\n",
    "\n",
    "      yhat_pid_va_fold = \\\n",
    "        knn_pid_fold.predict(X_pid_train.iloc[validation_indices, :])\n",
    "      \n",
    "      accuracy_fold = accuracy_score(y_pid_train.iloc[validation_indices], \\\n",
    "                                     yhat_pid_va_fold)\n",
    "      accuracy_sum_temp += accuracy_fold\n",
    "    accuracy_temp = accuracy_sum_temp / n_folds\n",
    "    if accuracy_temp > best_accuracy:\n",
    "      best_accuracy = accuracy_temp\n",
    "      best_k = k\n",
    "      best_degree = degree\n",
    "\n",
    "print(\"best k:\", best_k)\n",
    "print(\"best distance metric: L\" + str(best_degree))\n",
    "print(\"best accuracy:\", best_accuracy)"
   ]
  },
  {
   "cell_type": "markdown",
   "metadata": {
    "id": "5bFYtqu_LqYM"
   },
   "source": [
    "### Grid search"
   ]
  },
  {
   "cell_type": "markdown",
   "metadata": {
    "id": "zyf2y03wL_HS"
   },
   "source": [
    "https://scikit-learn.org/stable/modules/generated/sklearn.model_selection.GridSearchCV.html"
   ]
  },
  {
   "cell_type": "code",
   "execution_count": null,
   "metadata": {
    "id": "ChvlWvPEAoom"
   },
   "outputs": [],
   "source": [
    "from sklearn.model_selection import GridSearchCV"
   ]
  },
  {
   "cell_type": "code",
   "execution_count": null,
   "metadata": {
    "id": "HI5hIxSWqo8A"
   },
   "outputs": [],
   "source": [
    "knn_pid_search = GridSearchCV(estimator=KNeighborsClassifier(), \\\n",
    "                              cv=5, \\\n",
    "                              param_grid=dict(n_neighbors=[2, 3, 4, 5, 6, 7], \\\n",
    "                                              p=[1, 2, 3, 4]), \\\n",
    "                              scoring='accuracy')"
   ]
  },
  {
   "cell_type": "code",
   "execution_count": null,
   "metadata": {
    "id": "9NkLer7Ejz7q"
   },
   "outputs": [],
   "source": [
    "knn_pid_search.fit(X_pid_train, y_pid_train)"
   ]
  },
  {
   "cell_type": "code",
   "execution_count": null,
   "metadata": {
    "id": "P8WfrHCSj1Wo"
   },
   "outputs": [],
   "source": [
    "knn_pid_search.best_estimator_"
   ]
  },
  {
   "cell_type": "markdown",
   "metadata": {
    "id": "bc2QqjHBKqQi"
   },
   "source": [
    "## Learning curves"
   ]
  },
  {
   "cell_type": "markdown",
   "metadata": {
    "id": "SPFxaOZVKitC"
   },
   "source": [
    "https://scikit-learn.org/stable/modules/generated/sklearn.model_selection.learning_curve.html"
   ]
  },
  {
   "cell_type": "code",
   "execution_count": null,
   "metadata": {
    "id": "5MK8YzgkKhSQ"
   },
   "outputs": [],
   "source": [
    "from sklearn.model_selection import learning_curve"
   ]
  },
  {
   "cell_type": "code",
   "execution_count": null,
   "metadata": {
    "id": "rS2elsRDc5eU"
   },
   "outputs": [],
   "source": [
    "data_sizes, training_scores, validation_scores = \\\n",
    "  learning_curve(KNeighborsClassifier(), X_digits_train, \\\n",
    "                 y_digits_train, cv=10, scoring='accuracy', \\\n",
    "                 train_sizes=np.linspace(0.01, 1.0, 51))"
   ]
  },
  {
   "cell_type": "code",
   "execution_count": null,
   "metadata": {
    "id": "F42b2pbOjktC"
   },
   "outputs": [],
   "source": [
    "display(data_sizes)"
   ]
  },
  {
   "cell_type": "code",
   "execution_count": null,
   "metadata": {
    "id": "wAybEYSGjrrN"
   },
   "outputs": [],
   "source": [
    "display(training_scores)\n",
    "display(training_scores.shape)"
   ]
  },
  {
   "cell_type": "code",
   "execution_count": null,
   "metadata": {
    "id": "oBEHP3IUj0at"
   },
   "outputs": [],
   "source": [
    "display(validation_scores)\n",
    "display(validation_scores.shape)"
   ]
  },
  {
   "cell_type": "code",
   "execution_count": null,
   "metadata": {
    "id": "rBirv82FdJro"
   },
   "outputs": [],
   "source": [
    "training_mean = training_scores.mean(axis=1) \n",
    "training_standard_deviation = training_scores.std(axis=1) "
   ]
  },
  {
   "cell_type": "code",
   "execution_count": null,
   "metadata": {
    "id": "7Wiaw5Pmdcuw"
   },
   "outputs": [],
   "source": [
    "validation_mean = validation_scores.mean(axis=1) \n",
    "validation_standard_deviation = validation_scores.std(axis=1)"
   ]
  },
  {
   "cell_type": "code",
   "execution_count": null,
   "metadata": {
    "id": "9OZRGkvxddID"
   },
   "outputs": [],
   "source": [
    "import plotly.graph_objects as go"
   ]
  },
  {
   "cell_type": "code",
   "execution_count": null,
   "metadata": {
    "id": "3pclI0cvfoIU"
   },
   "outputs": [],
   "source": [
    "fig = go.Figure()\n",
    "\n",
    "fig.add_trace(go.Scatter(x=data_sizes, \n",
    "                        y=training_mean,\n",
    "                        mode='lines',\n",
    "                        name='Training',\n",
    "                        line=dict(color='red')))\n",
    "fig.add_trace(go.Scatter(x=data_sizes, \n",
    "                        y=training_mean - training_standard_deviation,\n",
    "                        mode='lines',\n",
    "                        name='Training lower bound',\n",
    "                        line=dict(width=0, color='red'),\n",
    "                        showlegend=False))\n",
    "fig.add_trace(go.Scatter(x=data_sizes, \n",
    "                        y=training_mean + training_standard_deviation,\n",
    "                        mode='lines',\n",
    "                        name='Training upper bound',\n",
    "                        line=dict(width=0, color='red'),\n",
    "                        fill='tonexty',\n",
    "                        fillcolor='rgba(255, 0, 0, 0.3)',\n",
    "                        showlegend=False))\n",
    "\n",
    "fig.add_trace(go.Scatter(x=data_sizes, \n",
    "                        y=validation_mean,\n",
    "                        mode='lines',\n",
    "                        name='Validation',\n",
    "                        line=dict(color='blue')))\n",
    "fig.add_trace(go.Scatter(x=data_sizes, \n",
    "                        y=validation_mean - validation_standard_deviation,\n",
    "                        mode='lines',\n",
    "                        name='Validation lower bound',\n",
    "                        line=dict(width=0, color='blue'),\n",
    "                        showlegend=False))\n",
    "fig.add_trace(go.Scatter(x=data_sizes, \n",
    "                        y=validation_mean + validation_standard_deviation,\n",
    "                        mode='lines',\n",
    "                        name='Validation upper bound',\n",
    "                        line=dict(width=0, color='blue'),\n",
    "                        fill='tonexty',\n",
    "                        fillcolor='rgba(0, 0, 255, 0.3)',\n",
    "                        showlegend=False))\n",
    "\n",
    "fig.update_layout(title='Learning curve',\n",
    "                 xaxis_title='Dataset size',\n",
    "                 yaxis_title='Accuracy')\n",
    "fig.show()"
   ]
  },
  {
   "cell_type": "markdown",
   "metadata": {
    "id": "n3zwYzv4doF0"
   },
   "source": [
    "That's all Folks!"
   ]
  }
 ],
 "metadata": {
  "colab": {
   "authorship_tag": "ABX9TyNkIxTX05TovVhA48uG9hws",
   "collapsed_sections": [],
   "mount_file_id": "1vQmoOSYIiQmKORmfJ5GCzKPgsv8sDDO1",
   "name": "L3-1, Part 2: Classifier Evaluation and MLP Part 2 .ipynb",
   "provenance": []
  },
  "kernelspec": {
   "display_name": "Python 3",
   "language": "python",
   "name": "python3"
  },
  "language_info": {
   "codemirror_mode": {
    "name": "ipython",
    "version": 3
   },
   "file_extension": ".py",
   "mimetype": "text/x-python",
   "name": "python",
   "nbconvert_exporter": "python",
   "pygments_lexer": "ipython3",
   "version": "3.8.5"
  }
 },
 "nbformat": 4,
 "nbformat_minor": 1
}
